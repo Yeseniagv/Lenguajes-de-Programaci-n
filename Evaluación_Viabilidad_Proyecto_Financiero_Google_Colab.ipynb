{
  "nbformat": 4,
  "nbformat_minor": 0,
  "metadata": {
    "colab": {
      "provenance": []
    },
    "kernelspec": {
      "name": "python3",
      "display_name": "Python 3"
    },
    "language_info": {
      "name": "python"
    }
  },
  "cells": [
    {
      "cell_type": "code",
      "execution_count": null,
      "metadata": {
        "id": "i0JoTR_A3XSC"
      },
      "outputs": [],
      "source": []
    },
    {
      "cell_type": "markdown",
      "source": [
        "#Valor Presente Neto (VPN)\n",
        "\n",
        "Representa el Valor Presente Neto (o Valor Presente de una Perpetuidad, en algunos contextos). Es el valor actual de todos los flujos de efectivo futuros esperados de una inversión, descontados a la tasa de descuento apropiada. En esencia, te dice cuánto vale hoy una inversión, considerando que el dinero futuro vale menos que el dinero hoy.\n",
        "\n",
        "El VPN es una medida financiera que te permite evaluar la viabilidad de un proyecto, calculando la diferencia entre el valor presente de los flujos de caja futuros y la inversión inicial. Si el VPN es positivo, el proyecto es rentable; si es negativo, no lo es.\n",
        "\n",
        "## Fórmula:\n",
        "\n",
        "\\[\n",
        "$$\n",
        "VPN = \\sum_{t=0}^{n} \\frac{C_t}{(1+r)^t} - C_0\n",
        "$$\n",
        "\\]\n",
        "\n",
        "\n"
      ],
      "metadata": {
        "id": "N_VE9_Sf3fFm"
      }
    },
    {
      "cell_type": "markdown",
      "source": [
        "## Variables:\n",
        "\n",
        "\n",
        "**∑:** Este es el símbolo de sumatoria. Indica que se van a sumar una serie de términos. La variable 't' representa el período de tiempo, que va desde el período 0 hasta el período 'n'.\n",
        "\n",
        "**t:** Es la variable de tiempo, que indica el período específico en el que ocurre un flujo de efectivo. Comienza en 0 y avanza hasta 'n'.\n",
        "\n",
        "**n:** Representa el número total de períodos o la vida útil de la inversión, después de los cuales ya no se esperan flujos de efectivo.\n",
        "\n",
        "**Ct:** Es el flujo de efectivo (o cupón) en el período 't'. Este es el monto de dinero que se recibe o se paga en un momento específico.\n",
        "\n",
        "**r:** Es la tasa de descuento por período. Esta tasa refleja el costo de oportunidad del capital, el riesgo asociado con la inversión y la inflación. Se utiliza para traer los flujos de efectivo futuros a su valor presente.\n",
        "\n",
        "**C0:** Representa el flujo de efectivo (o costo inicial) en el período 0. Este es típicamente el desembolso inicial de la inversión. Al restarlo, se asegura de que el VPN refleje la inversión neta."
      ],
      "metadata": {
        "id": "d9lgywegDU51"
      }
    },
    {
      "cell_type": "markdown",
      "source": [
        "#Descripción del Proyecto\n",
        "\n",
        "La empresa está evaluando un proyecto que requiere una inversión inicial (C0) de 50,000,000. Se espera que este proyecto genere flujos de caja (Ct) de 15,000,000 anualmente durante los próximos 10 años (n). La tasa de descuento (r) aplicable es del 5% (0.05)."
      ],
      "metadata": {
        "id": "O8bV2csh4Tee"
      }
    },
    {
      "cell_type": "markdown",
      "source": [
        "##1. Declaración de Variables:\n",
        "\n",
        "Las líneas de código que vamos a proporcionar definen las variables clave para un análisis financiero. En este caso, se están estableciendo los valores para calcular el Valor Presente Neto (VPN) de un proyecto de inversión.\n",
        "\n",
        "A continuación, la descripción de cada una de las variables:\n",
        "\n",
        "*   **inversion_inicial = 50000000:** Representa el costo inicial del proyecto. Este es el capital que la empresa debe gastar en el momento cero para comenzar la inversión.\n",
        "\n",
        "*   **flujo_ano_1 a flujo_ano_10 = 15000000:** Estas variables representan los flujos de caja esperados que el proyecto generará cada año. En este ejemplo, el proyecto se espera que genere $15,000,000 anualmente durante los próximos 10 años.\n",
        "\n",
        "*   **tasa_descuento = 0.05:** Esta es la tasa de descuento, expresada como un decimal (5%). Se utiliza para calcular el valor presente de los flujos de caja futuros, ya que el dinero hoy no tiene el mismo valor que el dinero en el futuro. Esto tiene en cuenta el valor temporal del dinero, la inflación y el riesgo asociado al proyecto.\n"
      ],
      "metadata": {
        "id": "kkg4u6WE8vom"
      }
    },
    {
      "cell_type": "code",
      "source": [
        "inversion_inicial = 50000000\n",
        "flujo_ano_1 = 15000000\n",
        "flujo_ano_2 = 15000000\n",
        "flujo_ano_3 = 15000000\n",
        "flujo_ano_4 = 15000000\n",
        "flujo_ano_5 = 15000000\n",
        "flujo_ano_6 = 15000000\n",
        "flujo_ano_7 = 15000000\n",
        "flujo_ano_8 = 15000000\n",
        "flujo_ano_9 = 15000000\n",
        "flujo_ano_10 = 15000000\n",
        "tasa_descuento = 0.05"
      ],
      "metadata": {
        "id": "vvLUoy197Okv"
      },
      "execution_count": null,
      "outputs": []
    },
    {
      "cell_type": "markdown",
      "source": [
        "## 2. Cálculo del VPN:\n",
        "\n",
        "A continuación, se muestra el código para calcular el VPN del proyecto usando las variables definidas.\n",
        "\n",
        "### Desglose del Código\n",
        "\n",
        "*   **Cálculo de los Flujos de Caja Descontados:** Cada término de la suma representa el valor presente de un flujo de caja futuro.\n",
        "Se toma el flujo de caja esperado para cada año (flujo_ano_X) y se divide por (1 + tasa_descuento) elevado a la potencia del año correspondiente (**X). Esto trae el valor futuro de ese flujo de caja al valor presente, considerando la tasa de descuento.\n",
        "El \\ al final de cada línea indica que la instrucción continúa en la siguiente línea, haciendo el código más legible.\n",
        "\n",
        "*   **Suma de los Flujos de Caja Presentes:** Todos los valores presentes de los flujos de caja de cada año se suman.\n",
        "\n",
        "*   **Resta de la Inversión Inicial:** Una vez sumados todos los valores presentes de los flujos de caja futuros, se resta la inversion_inicial. Esto da como resultado el Valor Presente Neto (VPN).\n",
        "\n",
        "*   **Impresión del Resultado:** La línea print(\"El Valor Presente Neto (VPN) es:\", vpn) muestra el resultado final del cálculo del VPN en la consola."
      ],
      "metadata": {
        "id": "5xjLA8P380QU"
      }
    },
    {
      "cell_type": "code",
      "source": [
        "vpn = (flujo_ano_1 / (1 + tasa_descuento)**1) + \\\n",
        "      (flujo_ano_2 / (1 + tasa_descuento)**2) + \\\n",
        "      (flujo_ano_3 / (1 + tasa_descuento)**3) + \\\n",
        "      (flujo_ano_4 / (1 + tasa_descuento)**4) + \\\n",
        "      (flujo_ano_5 / (1 + tasa_descuento)**5) + \\\n",
        "      (flujo_ano_6 / (1 + tasa_descuento)**6) + \\\n",
        "      (flujo_ano_7 / (1 + tasa_descuento)**7) + \\\n",
        "      (flujo_ano_8 / (1 + tasa_descuento)**8) + \\\n",
        "      (flujo_ano_9 / (1 + tasa_descuento)**9) + \\\n",
        "      (flujo_ano_10 / (1 + tasa_descuento)**10) - inversion_inicial\n",
        "\n",
        "print(\"El Valor Presente Neto (VPN) es:\", vpn)"
      ],
      "metadata": {
        "colab": {
          "base_uri": "https://localhost:8080/"
        },
        "id": "mI0ASdoo70a-",
        "outputId": "5163bba9-a5f5-4857-8557-a598aa41dcce"
      },
      "execution_count": null,
      "outputs": [
        {
          "output_type": "stream",
          "name": "stdout",
          "text": [
            "El Valor Presente Neto (VPN) es: 65826023.93777217\n"
          ]
        }
      ]
    },
    {
      "cell_type": "markdown",
      "source": [
        "## 3. Interpretación del Resultado:\n",
        "\n",
        "Lo siguiente son líneas de código, conocidas como una estructura condicional (if/else), se utilizan para tomar una decisión basada en el resultado del cálculo del Valor Presente Neto (VPN).\n",
        "\n",
        "*   **if vpn > 0:** Esta es la condición principal. El código verifica si el valor de la variable vpn es mayor que cero. Si la condición es verdadera (el VPN es positivo), significa que el proyecto generará más valor de lo que cuesta, por lo tanto, es rentable y económicamente viable. El programa ejecutará la línea de código dentro de este bloque: print(\"El proyecto es viable, ya que el VPN es positivo.\").\n",
        "\n",
        "*   **else:** Este bloque se ejecuta si la condición anterior es falsa, es decir, si el VPN no es mayor que cero (es cero o negativo). Si la condición es falsa (el VPN es negativo o igual a cero), el proyecto no es rentable o no genera ganancias suficientes para cubrir la inversión inicial, lo que lo hace no viable. El programa ejecutará la línea de código dentro de este bloque: print(\"El proyecto no es viable, ya que el VPN es negativo.\").\n"
      ],
      "metadata": {
        "id": "ZIL7ohwW874N"
      }
    },
    {
      "cell_type": "code",
      "source": [
        "if vpn > 0:\n",
        "  print(\"El proyecto es viable, ya que el VPN es positivo.\")\n",
        "else:\n",
        "  print(\"El proyecto no es viable, ya que el VPN es negativo.\")"
      ],
      "metadata": {
        "colab": {
          "base_uri": "https://localhost:8080/"
        },
        "id": "tw-jWBvm7ye4",
        "outputId": "a440003a-4662-4a21-bdea-fc7cd0239646"
      },
      "execution_count": null,
      "outputs": [
        {
          "output_type": "stream",
          "name": "stdout",
          "text": [
            "El proyecto es viable, ya que el VPN es positivo.\n"
          ]
        }
      ]
    }
  ]
}